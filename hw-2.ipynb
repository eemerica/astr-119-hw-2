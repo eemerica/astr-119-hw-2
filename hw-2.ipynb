{
 "cells": [
  {
   "cell_type": "markdown",
   "metadata": {},
   "source": [
    "## Hw 2\n",
    "1) Make  a  Jupyter  notebook,  import  numpy  and  matplotlib,  and  in  a  single  line  use  numpy  to  create  an \n",
    "array x running x = [0, 2 * pi] inclusive with 1000 values. The use matplotlib to plot the following functions \n",
    "on a single plot, using the x range x= [0,2*pi] and the vertical range y = [-1, 10]:\n",
    "                \n",
    "                a). y(x) = 5.5 cos(2 * x) + 5.5\n",
    "                \n",
    "                b). y(x) = 0.02 * exp( x )\n",
    "                \n",
    "                c). y(x) = 0.25 * x^2  + 0.1 sin (10 * x)\n",
    "\n",
    "2) Make the plot’s y label “Measures of Awesomeness” and the x label “Time in ASTR / EART 119”.\n",
    "\n",
    "\n",
    "3)  Create  an  issue  for  your  repository  and  tag  your  TA  using  “@zbriesem“  or  “@adwasser“.    For  instance, “Please   grade   my   homework,   @zbriesem.”.   CLEAR   ALL   THE   CELLS   BEFORE   YOU   COMMIT   THE \n",
    "    NOTEBOOK.\n",
    "\n",
    "\n",
    "4)  Your  TA  will  clone  your  code  and  email  you  commented  version  of  the  code  and  a  grade.  To  get  the  full grade  possible,  all  the  notebooks  will  need  to  run  to  completion  without  errors  and  produce  the  requested plots.\n",
    "\n",
    "\n",
    "5) Call the repository “astr-119-hw-2” and the notebook “hw-2.ipynb”."
   ]
  },
  {
   "cell_type": "code",
   "execution_count": null,
   "metadata": {},
   "outputs": [],
   "source": [
    "%matplotlib inline\n",
    "import numpy as np\n",
    "import matplotlib.pyplot as plt"
   ]
  },
  {
   "cell_type": "code",
   "execution_count": null,
   "metadata": {},
   "outputs": [],
   "source": [
    "x=np.linspace(0,2*np.pi,1000)#initialize an array starting from zero and ending at tau with 1000 elements.\n",
    "vals=x#instantiate vals as x since I'm paranoid and prefer to operate on an intermediate array.\n",
    "cosTwoVals=np.cos(2*vals)#create an intermediate array that is filled with the cosine of twice each element of vals\n",
    "y=5.5*cosTwoVals+5.5#Create an array that holds the output of function a, taking in each element of cosTwoVals\n",
    "z=0.02*np.exp(vals)#creates an array that holds the output of function b, taking in each element of vals\n",
    "w=(0.25*(vals**2))+0.1*np.sin(10*vals)#creates an array that holds the output of function c, taking in each element of\n",
    "#vals"
   ]
  },
  {
   "cell_type": "code",
   "execution_count": null,
   "metadata": {},
   "outputs": [],
   "source": [
    "fig=plt.figure(figsize=(8,8))#set the size of the figure output by plt\n",
    "plt.plot(x,y,label=r'$y(x) = 5.5\\cos(2x)+5.5$')#plot x vs. function a\n",
    "plt.plot(x,z,label=r'$y(x) = 0.02\\exp(x)$')#plot x vs. function b\n",
    "plt.plot(x,w,label=r'$y(x) = 0.25x^2 + 0.1\\sin(10x)$')#plot x vs. function c\n",
    "plt.xlabel(r'Time in Astr 119')#label x axis as Time in Astr 119\n",
    "plt.ylabel(r'Measure of Awesomeness')#label y axis as Measure of Awesomeness\n",
    "plt.xlim([0,2*np.pi])#set the range of the x axis from zero to tau\n",
    "plt.ylim([-1.,10.])#set the range of the y axis from negative one to ten\n",
    "plt.legend(loc=1,framealpha=0.05)#place a transparent legend on the plot with the name and color of each curve"
   ]
  },
  {
   "cell_type": "markdown",
   "metadata": {},
   "source": [
    "I would like to note that with y running from negative one to 10, it cuts off parts of the graph of function a. Otherwise, I'm satisfied with the output of this."
   ]
  },
  {
   "cell_type": "code",
   "execution_count": null,
   "metadata": {},
   "outputs": [],
   "source": []
  }
 ],
 "metadata": {
  "kernelspec": {
   "display_name": "Python 3",
   "language": "python",
   "name": "python3"
  },
  "language_info": {
   "codemirror_mode": {
    "name": "ipython",
    "version": 3
   },
   "file_extension": ".py",
   "mimetype": "text/x-python",
   "name": "python",
   "nbconvert_exporter": "python",
   "pygments_lexer": "ipython3",
   "version": "3.6.4"
  }
 },
 "nbformat": 4,
 "nbformat_minor": 2
}
